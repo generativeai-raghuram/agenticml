{
 "cells": [
  {
   "cell_type": "code",
   "execution_count": 12,
   "id": "59951308",
   "metadata": {},
   "outputs": [
    {
     "name": "stdout",
     "output_type": "stream",
     "text": [
      "{\n",
      "  \"title\": \"Rohan's Rainy Day Adventure\",\n",
      "  \"story\": \"One sunny morning in the village of Rampur, a little boy named Rohan woke up. He loved playing outside! Suddenly, the sky turned grey, and it started to rain. Rohan felt a little sad. His Mummy, Priya, smiled. \\\"Let's make paper boats, my little raja!\\\" she said. Rohan's eyes lit up. They made colourful boats and floated them in the puddles outside their window. The tiny boats danced in the water. Rohan giggled. The rainy day became the best day ever, full of splashes and smiles!\"\n",
      "}\n"
     ]
    }
   ],
   "source": [
    "from google import genai\n",
    "from google.genai import types\n",
    "import dotenv\n",
    "# Load environment variables from .env file\n",
    "dotenv.load_dotenv()\n",
    "import os\n",
    "gemini_api_key = os.getenv(\"GEMINI_API_KEY\")\n",
    "# Ensure the GEMINI_API_KEY environment variable is set\n",
    "if not gemini_api_key:\n",
    "    raise ValueError(\"GEMINI_API_KEY environment variable is not set.\")\n",
    "\n",
    "# Initialize the GenAI client with your API key\n",
    "client = genai.Client(api_key=gemini_api_key)\n",
    "\n",
    "# Generate content using the Gemini model with thinking disabled\n",
    "response = client.models.generate_content(\n",
    "    model=\"gemini-2.5-flash\",\n",
    "    contents=\"Tell me a story in 100 words:\",\n",
    "    config=types.GenerateContentConfig(\n",
    "      system_instruction='you are a story teller for kids under 5 years old, use always use indian names and places',\n",
    "      max_output_tokens= 400,\n",
    "      top_k= 2,\n",
    "      top_p= 0.5,\n",
    "      temperature= 0.5,\n",
    "      response_mime_type= 'application/json',\n",
    "      # stop_sequences= ['\\n'],\n",
    "      seed=42,\n",
    "      thinking_config=types.ThinkingConfig(thinking_budget=0) # Disables thinking\n",
    "    ),\n",
    ")\n",
    "print(response.text)"
   ]
  },
  {
   "cell_type": "code",
   "execution_count": null,
   "id": "6956b4e3",
   "metadata": {},
   "outputs": [],
   "source": []
  }
 ],
 "metadata": {
  "kernelspec": {
   "display_name": ".venv",
   "language": "python",
   "name": "python3"
  },
  "language_info": {
   "codemirror_mode": {
    "name": "ipython",
    "version": 3
   },
   "file_extension": ".py",
   "mimetype": "text/x-python",
   "name": "python",
   "nbconvert_exporter": "python",
   "pygments_lexer": "ipython3",
   "version": "3.10.6"
  }
 },
 "nbformat": 4,
 "nbformat_minor": 5
}
